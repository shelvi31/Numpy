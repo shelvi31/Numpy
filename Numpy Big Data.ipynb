{
 "cells": [
  {
   "cell_type": "markdown",
   "id": "impaired-shoot",
   "metadata": {},
   "source": [
    "### NUMPY REVISION \n",
    "\n",
    "Awesome Cheatsheet at : https://www.dataquest.io/blog/numpy-cheat-sheet/"
   ]
  },
  {
   "cell_type": "markdown",
   "id": "handy-timber",
   "metadata": {},
   "source": [
    "#### Creating a Numpy Array"
   ]
  },
  {
   "cell_type": "markdown",
   "id": "macro-layer",
   "metadata": {},
   "source": [
    "Ranks in Numpy Arrays: number of dimensions of the array is called rank of the array. "
   ]
  },
  {
   "cell_type": "code",
   "execution_count": 1,
   "id": "radical-saver",
   "metadata": {},
   "outputs": [],
   "source": [
    "import numpy as np"
   ]
  },
  {
   "cell_type": "code",
   "execution_count": 4,
   "id": "dressed-holiday",
   "metadata": {},
   "outputs": [
    {
     "data": {
      "text/plain": [
       "array([1, 2, 3])"
      ]
     },
     "execution_count": 4,
     "metadata": {},
     "output_type": "execute_result"
    }
   ],
   "source": [
    "a = np.array([1,2,3])\n",
    "a"
   ]
  },
  {
   "cell_type": "code",
   "execution_count": 5,
   "id": "behavioral-financing",
   "metadata": {},
   "outputs": [
    {
     "data": {
      "text/plain": [
       "3"
      ]
     },
     "execution_count": 5,
     "metadata": {},
     "output_type": "execute_result"
    }
   ],
   "source": [
    "len(a)"
   ]
  },
  {
   "cell_type": "code",
   "execution_count": 7,
   "id": "everyday-nomination",
   "metadata": {},
   "outputs": [
    {
     "data": {
      "text/plain": [
       "array([[1, 2, 3],\n",
       "       [2, 3, 4]])"
      ]
     },
     "execution_count": 7,
     "metadata": {},
     "output_type": "execute_result"
    }
   ],
   "source": [
    "#array with rank 2\n",
    "a = np.array([[1,2,3],[2,3,4]])                      #note : ([[...],[...]])\n",
    "a"
   ]
  },
  {
   "cell_type": "code",
   "execution_count": 9,
   "id": "fewer-forwarding",
   "metadata": {},
   "outputs": [
    {
     "data": {
      "text/plain": [
       "3"
      ]
     },
     "execution_count": 9,
     "metadata": {},
     "output_type": "execute_result"
    }
   ],
   "source": [
    "len(a)   #a.size"
   ]
  },
  {
   "cell_type": "code",
   "execution_count": 13,
   "id": "alternate-communication",
   "metadata": {},
   "outputs": [
    {
     "data": {
      "text/plain": [
       "(3,)"
      ]
     },
     "execution_count": 13,
     "metadata": {},
     "output_type": "execute_result"
    }
   ],
   "source": [
    "a.shape"
   ]
  },
  {
   "cell_type": "code",
   "execution_count": 8,
   "id": "crude-equation",
   "metadata": {},
   "outputs": [
    {
     "data": {
      "text/plain": [
       "array([1, 2, 3])"
      ]
     },
     "execution_count": 8,
     "metadata": {},
     "output_type": "execute_result"
    }
   ],
   "source": [
    "#Array using tuple\n",
    "a = np.array((1,2,3))\n",
    "a"
   ]
  },
  {
   "cell_type": "markdown",
   "id": "sunrise-sphere",
   "metadata": {},
   "source": [
    "#### Accessing the array Index : Basic Indexing"
   ]
  },
  {
   "cell_type": "code",
   "execution_count": 15,
   "id": "precise-mixture",
   "metadata": {},
   "outputs": [
    {
     "data": {
      "text/plain": [
       "array([[-1. ,  2. ,  0. ,  4. ],\n",
       "       [ 4. , -0.5,  6. ,  0. ],\n",
       "       [ 2.6,  0. ,  7. ,  8. ],\n",
       "       [ 3. , -7. ,  4. ,  2. ]])"
      ]
     },
     "execution_count": 15,
     "metadata": {},
     "output_type": "execute_result"
    }
   ],
   "source": [
    "b = np.array([[-1, 2, 0, 4],\n",
    "                [4, -0.5, 6, 0],\n",
    "                [2.6, 0, 7, 8],\n",
    "                [3, -7, 4, 2.0]])\n",
    "b"
   ]
  },
  {
   "cell_type": "code",
   "execution_count": 16,
   "id": "backed-scholar",
   "metadata": {},
   "outputs": [
    {
     "data": {
      "text/plain": [
       "array([[-1. ,  2. ,  0. ,  4. ],\n",
       "       [ 4. , -0.5,  6. ,  0. ]])"
      ]
     },
     "execution_count": 16,
     "metadata": {},
     "output_type": "execute_result"
    }
   ],
   "source": [
    "b[0:2]"
   ]
  },
  {
   "cell_type": "code",
   "execution_count": 17,
   "id": "tough-dependence",
   "metadata": {},
   "outputs": [
    {
     "data": {
      "text/plain": [
       "array([[-1. ,  2. ],\n",
       "       [ 4. , -0.5],\n",
       "       [ 2.6,  0. ],\n",
       "       [ 3. , -7. ]])"
      ]
     },
     "execution_count": 17,
     "metadata": {},
     "output_type": "execute_result"
    }
   ],
   "source": [
    "b[:,0:2]"
   ]
  },
  {
   "cell_type": "markdown",
   "id": "matched-strategy",
   "metadata": {},
   "source": [
    "#### Array with first 2 rows and columns:"
   ]
  },
  {
   "cell_type": "code",
   "execution_count": 18,
   "id": "anticipated-fields",
   "metadata": {},
   "outputs": [
    {
     "data": {
      "text/plain": [
       "array([[-1. ,  2. ],\n",
       "       [ 4. , -0.5]])"
      ]
     },
     "execution_count": 18,
     "metadata": {},
     "output_type": "execute_result"
    }
   ],
   "source": [
    "b[:2,:2]"
   ]
  },
  {
   "cell_type": "markdown",
   "id": "spiritual-injury",
   "metadata": {},
   "source": [
    "##### Array with first 2 rows and alternate columns(0 and 2):"
   ]
  },
  {
   "cell_type": "code",
   "execution_count": 59,
   "id": "basic-halifax",
   "metadata": {},
   "outputs": [
    {
     "name": "stdout",
     "output_type": "stream",
     "text": [
      "[[-1.  0.]\n",
      " [ 4.  6.]]\n",
      "Array with first 2 rows and alternate columns(0 and 2):\n",
      " [[-1.  0.]\n",
      " [ 4.  6.]]\n"
     ]
    }
   ],
   "source": [
    "#start:stop:step\n",
    "b = np.array([[-1, 2, 0, 4],\n",
    "                [4, -0.5, 6, 0],\n",
    "                [2.6, 0, 7, 8],\n",
    "                [3, -7, 4, 2.0]])\n",
    "\n",
    "print(b[:2,0:4:2])  #give start stop step in column\n",
    "\n",
    "#print(b[:3,0:4,2])    : error : 2d array\n",
    "\n",
    "sliced_arr = b[:2, ::2]\n",
    "print (\"Array with first 2 rows and\"\n",
    "    \" alternate columns(0 and 2):\\n\", sliced_arr)"
   ]
  },
  {
   "cell_type": "code",
   "execution_count": 28,
   "id": "improved-credit",
   "metadata": {},
   "outputs": [
    {
     "name": "stdout",
     "output_type": "stream",
     "text": [
      "c is [10  8  6  4  2]\n",
      "\n",
      " Elements at these indices in c are:\n",
      " [4 8 6]\n"
     ]
    }
   ],
   "source": [
    "# Create a sequence of integers from 10 to 1 with a step of -2\n",
    "c = np.arange(10, 1, -2)\n",
    "print(\"c is\",c)\n",
    "\n",
    "# Indexes are specified inside the np.array method.\n",
    "newarr = c[np.array([3, 1, 2 ])]\n",
    "print(\"\\n Elements at these indices in c are:\\n\",newarr)"
   ]
  },
  {
   "cell_type": "markdown",
   "id": "educated-vault",
   "metadata": {},
   "source": [
    "#### Basic Slicing:"
   ]
  },
  {
   "cell_type": "code",
   "execution_count": 33,
   "id": "honest-determination",
   "metadata": {},
   "outputs": [
    {
     "name": "stdout",
     "output_type": "stream",
     "text": [
      "\n",
      " Array d is:\n",
      "  [ 0  1  2  3  4  5  6  7  8  9 10 11 12 13 14 15 16 17 18 19]\n",
      "[16 18]\n",
      "[10 11 12 13 14 15 16 17 18 19]\n"
     ]
    }
   ],
   "source": [
    "\n",
    "d = np.arange(20)\n",
    "print(\"\\n Array d is:\\n \",d)\n",
    "  \n",
    "# d[start:stop:step]\n",
    "print(d[-4:19:2]) \n",
    "  \n",
    "# The : operator means all elements till the end.\n",
    "print(d[10:])"
   ]
  },
  {
   "cell_type": "markdown",
   "id": "romantic-encoding",
   "metadata": {},
   "source": [
    "#### Ellipsis:\n",
    "\n",
    "Ellipsis can also be used along with basic slicing. Ellipsis (…) is the number of : objects needed to make a selection"
   ]
  },
  {
   "cell_type": "code",
   "execution_count": 55,
   "id": "welcome-pledge",
   "metadata": {},
   "outputs": [
    {
     "name": "stdout",
     "output_type": "stream",
     "text": [
      "b is [[[ 1  2  3]\n",
      "  [ 4  5  6]]\n",
      "\n",
      " [[ 7  8  9]\n",
      "  [10 11 12]]]\n",
      "\n",
      "b[:1] is [[[1 2 3]\n",
      "  [4 5 6]]]\n",
      "\n",
      "b[1:2] is [[[ 7  8  9]\n",
      "  [10 11 12]]]\n",
      "\n",
      "b[: ,: ,1 ] is: [[ 2  5]\n",
      " [ 8 11]]\n"
     ]
    }
   ],
   "source": [
    "#A 3 dimensional array.\n",
    "b = np.array([[[1, 2, 3],[4, 5, 6]],\n",
    "              [[7, 8, 9],[10, 11, 12]]])\n",
    "print(\"b is\",b)\n",
    "\n",
    "print(\"\\nb[:1] is\",b[:1])\n",
    "\n",
    "print(\"\\nb[1:2] is\",b[1:2])\n",
    "\n",
    "#Start,stop,step:\n",
    "\n",
    "print(\"\\nb[: ,: ,1 ] is:\", b[: ,: ,1 ])  #thus prints middle element"
   ]
  },
  {
   "cell_type": "code",
   "execution_count": 162,
   "id": "neither-consumption",
   "metadata": {},
   "outputs": [
    {
     "name": "stdout",
     "output_type": "stream",
     "text": [
      "[[ 2  5]\n",
      " [ 8 11]]\n"
     ]
    }
   ],
   "source": [
    "b = np.array([[[1, 2, 3],[4, 5, 6]],\n",
    "              [[7, 8, 9],[10, 11, 12]]])\n",
    " \n",
    "print(b[...,1]) #Equivalent to b[: ,: ,1 ]"
   ]
  },
  {
   "cell_type": "markdown",
   "id": "brave-median",
   "metadata": {},
   "source": [
    "#### Boolean Indexing\n",
    "This indexing has some boolean expression as the index. Those elements are returned which satisfy that Boolean expression. It is used for filtering the desired element values."
   ]
  },
  {
   "cell_type": "code",
   "execution_count": 60,
   "id": "decent-bottom",
   "metadata": {},
   "outputs": [
    {
     "name": "stdout",
     "output_type": "stream",
     "text": [
      "[ 80 100]\n"
     ]
    }
   ],
   "source": [
    "a = np.array([10, 40, 80, 50, 100])\n",
    "print(a[a>50])"
   ]
  },
  {
   "cell_type": "code",
   "execution_count": 61,
   "id": "involved-september",
   "metadata": {},
   "outputs": [
    {
     "name": "stdout",
     "output_type": "stream",
     "text": [
      "[1600 6400]\n"
     ]
    }
   ],
   "source": [
    "a = np.array([10, 40, 80, 50, 100])\n",
    "print(a[a%40==0]**2)"
   ]
  },
  {
   "cell_type": "markdown",
   "id": "sound-ballot",
   "metadata": {},
   "source": [
    "Axis 0 will act on all the ROWS in each COLUMN\n",
    "Axis 1 will act on all the COLUMNS in each ROW\n",
    "Basically simplest to remember it as 0=down and 1=across."
   ]
  },
  {
   "cell_type": "code",
   "execution_count": 77,
   "id": "rural-treatment",
   "metadata": {},
   "outputs": [
    {
     "name": "stdout",
     "output_type": "stream",
     "text": [
      "[[ 5  5  0]\n",
      " [ 4  5  1]\n",
      " [16  4  5]]\n",
      "\n",
      " [[5 5 0]\n",
      " [4 5 1]]\n",
      "\n",
      " [[5 0]\n",
      " [5 1]\n",
      " [4 5]]\n"
     ]
    }
   ],
   "source": [
    "b = np.array([[5, 5,0],[4, 5,1],[16, 4,5]])\n",
    "print(b)\n",
    "\n",
    "sumrow = b.sum(1)\n",
    "print(\"\\n\",b[sumrow%10==0])\n",
    "\n",
    "sumcolumn = b.sum(0)\n",
    "print(\"\\n\",b[:,sumcolumn%2==0])"
   ]
  },
  {
   "cell_type": "code",
   "execution_count": 85,
   "id": "fossil-special",
   "metadata": {},
   "outputs": [
    {
     "name": "stdout",
     "output_type": "stream",
     "text": [
      "Adding 1 to every element: [[2 3]\n",
      " [4 5]]\n",
      "\n",
      "Subtracting 2 from each element: [[ 2  1]\n",
      " [ 0 -1]]\n",
      "\n",
      "Sum of all array elements:  10\n",
      "\n",
      "Array sum:\n",
      " [[5 5]\n",
      " [5 5]]\n",
      "\n",
      "Mean of all array elements:  2.5\n"
     ]
    }
   ],
   "source": [
    "# basic operations on single array\n",
    "\n",
    "# Defining Array 1\n",
    "a = np.array([[1, 2],\n",
    "              [3, 4]])\n",
    " \n",
    "# Defining Array 2\n",
    "b = np.array([[4, 3],\n",
    "              [2, 1]])\n",
    "               \n",
    "# Adding 1 to every element\n",
    "print (\"Adding 1 to every element:\", a + 1)\n",
    " \n",
    "# Subtracting 2 from each element\n",
    "print (\"\\nSubtracting 2 from each element:\", b - 2)\n",
    " \n",
    "# sum of array elements\n",
    "# Performing Unary operations\n",
    "print (\"\\nSum of all array \"\n",
    "       \"elements: \", a.sum())\n",
    " \n",
    "# Adding two arrays\n",
    "# Performing Binary operations\n",
    "print (\"\\nArray sum:\\n\", a + b)\n",
    "\n",
    "print (\"\\nMean of all array \"\n",
    "       \"elements: \", a.mean())"
   ]
  },
  {
   "cell_type": "markdown",
   "id": "burning-smoke",
   "metadata": {},
   "source": [
    "#### Unary operators: \n",
    "\n",
    "Many unary operations are provided as a method of ndarray class. This includes sum, min, max, etc. These functions can also be applied row-wise or column-wise by setting an axis parameter.\n",
    "\n",
    "Axis 0 will act on all the ROWS in each COLUMN\n",
    "Axis 1 will act on all the COLUMNS in each ROW\n",
    "\n",
    "Basically simplest to remember it as 0=down and 1=across."
   ]
  },
  {
   "cell_type": "code",
   "execution_count": 136,
   "id": "alike-doctrine",
   "metadata": {},
   "outputs": [
    {
     "name": "stdout",
     "output_type": "stream",
     "text": [
      "Largest element is: 9\n",
      "Row-wise maximum elements: [6 7 9]\n",
      "Column-wise minimum elements: [1 1 2]\n",
      "Sum of all array elements: 38\n",
      "Cumulative sum along each row:\n",
      " [[ 1  6 12]\n",
      " [ 4 11 13]\n",
      " [ 3  4 13]]\n",
      "Cumulative sum along each column:\n",
      " [[ 1  5  6]\n",
      " [ 5 12  8]\n",
      " [ 8 13 17]]\n"
     ]
    }
   ],
   "source": [
    "arr = np.array([[1, 5, 6],\n",
    "                [4, 7, 2],\n",
    "                [3, 1, 9]])\n",
    " \n",
    "# maximum element of array\n",
    "print (\"Largest element is:\", arr.max())\n",
    "print (\"Row-wise maximum elements:\",arr.max(axis = 1))\n",
    " \n",
    "# minimum element of array\n",
    "print (\"Column-wise minimum elements:\",\n",
    "                        arr.min(axis = 0))\n",
    " \n",
    "# sum of array elements\n",
    "print (\"Sum of all array elements:\",\n",
    "                            arr.sum())\n",
    " \n",
    "# cumulative sum along each row\n",
    "print (\"Cumulative sum along each row:\\n\",\n",
    "                        arr.cumsum(axis = 1))\n",
    "\n",
    "# cumulative sum along each column\n",
    "print (\"Cumulative sum along each column:\\n\",\n",
    "                        arr.cumsum(axis = 0))"
   ]
  },
  {
   "cell_type": "markdown",
   "id": "controversial-pendant",
   "metadata": {},
   "source": [
    "#### Universal functions (ufunc):"
   ]
  },
  {
   "cell_type": "code",
   "execution_count": 139,
   "id": "worst-turkey",
   "metadata": {},
   "outputs": [
    {
     "name": "stdout",
     "output_type": "stream",
     "text": [
      "a is: [1.         1.57079633 3.14159265]\n",
      "Sine values of array elements: [8.41470985e-01 1.00000000e+00 1.22464680e-16]\n",
      "Exponent of array elements: [ 1.          2.71828183  7.3890561  20.08553692]\n",
      "Square root of array elements: [0.         1.         1.41421356 1.73205081]\n"
     ]
    }
   ],
   "source": [
    "# create an array of sine values\n",
    "a = np.array([1, np.pi/2, np.pi])\n",
    "print(\"a is:\",a)\n",
    "print (\"Sine values of array elements:\", np.sin(a))\n",
    " \n",
    "# exponential values\n",
    "a = np.array([0, 1, 2, 3])\n",
    "print (\"Exponent of array elements:\", np.exp(a))\n",
    " \n",
    "# square root of array values\n",
    "print (\"Square root of array elements:\", np.sqrt(a))"
   ]
  },
  {
   "cell_type": "markdown",
   "id": "dense-praise",
   "metadata": {},
   "source": [
    "### Data types in array"
   ]
  },
  {
   "cell_type": "code",
   "execution_count": 89,
   "id": "experienced-superior",
   "metadata": {},
   "outputs": [
    {
     "data": {
      "text/plain": [
       "dtype('int32')"
      ]
     },
     "execution_count": 89,
     "metadata": {},
     "output_type": "execute_result"
    }
   ],
   "source": [
    "a.dtype"
   ]
  },
  {
   "cell_type": "markdown",
   "id": "immediate-gathering",
   "metadata": {},
   "source": [
    "#### Math Operations on DataType array"
   ]
  },
  {
   "cell_type": "code",
   "execution_count": 93,
   "id": "aerial-metabolism",
   "metadata": {},
   "outputs": [
    {
     "name": "stdout",
     "output_type": "stream",
     "text": [
      "Addition of Two Arrays:  [[ 7. 13.]\n",
      " [ 4. 14.]]\n",
      "\n",
      "Addition of Array elements:  19.0\n",
      "\n",
      "Square root of Array1 elements:  [[2.         2.64575131]\n",
      " [1.41421356 2.44948974]]\n",
      "\n",
      "Transpose of Array:  [[4. 2.]\n",
      " [7. 6.]]\n"
     ]
    }
   ],
   "source": [
    "\n",
    "arr1 = np.array([[4, 7],[2, 6]], dtype = np.float64)\n",
    "                  \n",
    "arr2 = np.array([[3, 6],[2, 8]], dtype = np.float64) \n",
    " \n",
    "#Addition of two Arrays\n",
    "Sum = np.add(arr1, arr2)\n",
    "print(\"Addition of Two Arrays: \",Sum)\n",
    "\n",
    "\n",
    "# Addition of all Array elements\n",
    "Sum1 = np.sum(arr1)\n",
    "print(\"\\nAddition of Array elements: \",Sum1)\n",
    "\n",
    " \n",
    "# Square root of Array\n",
    "Sqrt = np.sqrt(arr1)\n",
    "print(\"\\nSquare root of Array1 elements: \",Sqrt)\n",
    " \n",
    "# Transpose of Array \n",
    "Trans_arr = arr1.T\n",
    "print(\"\\nTranspose of Array: \",Trans_arr)\n"
   ]
  },
  {
   "cell_type": "markdown",
   "id": "widespread-yemen",
   "metadata": {},
   "source": [
    "#### Dimesionality and Size of Array:"
   ]
  },
  {
   "cell_type": "code",
   "execution_count": 95,
   "id": "dying-damage",
   "metadata": {},
   "outputs": [
    {
     "name": "stdout",
     "output_type": "stream",
     "text": [
      "Array is of type:  <class 'numpy.ndarray'>\n",
      "No. of dimensions:  2\n",
      "Shape of array:  (2, 3)\n",
      "Size of array:  6\n",
      "Array stores elements of type:  float64\n"
     ]
    }
   ],
   "source": [
    "arr = np.array( [[ 1, 2, 3],\n",
    "                 [ 4, 2, 5.0]] )\n",
    " \n",
    "# Printing type of arr object\n",
    "print(\"Array is of type: \", type(arr))\n",
    " \n",
    "# Printing array dimensions (axes)              #Dimensions or Rank or Axes\n",
    "print(\"No. of dimensions: \", arr.ndim)\n",
    " \n",
    "# Printing shape of array\n",
    "print(\"Shape of array: \", arr.shape)\n",
    " \n",
    "# Printing size (total number of elements) of array\n",
    "print(\"Size of array: \", arr.size)                            \n",
    " \n",
    "# Printing type of elements in array\n",
    "print(\"Array stores elements of type: \", arr.dtype)"
   ]
  },
  {
   "cell_type": "code",
   "execution_count": 155,
   "id": "experimental-chicago",
   "metadata": {},
   "outputs": [
    {
     "name": "stdout",
     "output_type": "stream",
     "text": [
      "zeros [0. 0. 0. 0. 0.]\n",
      "ones [[1. 1.]\n",
      " [1. 1.]\n",
      " [1. 1.]\n",
      " [1. 1.]\n",
      " [1. 1.]]\n",
      "full [2 2 2 2 2]\n",
      "empty [[3 3 3 3]\n",
      " [3 3 3 3]\n",
      " [3 3 3 3]\n",
      " [3 3 3 3]\n",
      " [3 3 3 3]]\n",
      "eye [[1. 0. 0. 0.]\n",
      " [0. 1. 0. 0.]\n",
      " [0. 0. 1. 0.]\n",
      " [0. 0. 0. 1.]\n",
      " [0. 0. 0. 0.]]\n",
      "reshaped z: [[1. 0. 0. 0. 0. 1. 0. 0. 0. 0.]\n",
      " [1. 0. 0. 0. 0. 1. 0. 0. 0. 0.]]\n",
      "arange [0 1 2 3 4 5 6 7 8 9]\n",
      "arange with step [10 12 14 16 18]\n",
      "linspace is equal space by default [10. 11. 12. 13. 14. 15. 16. 17. 18. 19.]\n"
     ]
    }
   ],
   "source": [
    "z = np.zeros(5)\n",
    "print(\"zeros\",z)\n",
    "\n",
    "z = np.ones((5,2))\n",
    "print(\"ones\",z)\n",
    "\n",
    "z = np.full(5,2)\n",
    "print(\"full\",z)\n",
    "\n",
    "z = np.full([5,4],3)\n",
    "print(\"empty\",z)\n",
    "\n",
    "z = np.eye(5,4)\n",
    "print(\"eye\",z)\n",
    "\n",
    "z= z.reshape([2,10])    #condition size of array must remain same , here 5*3=15\n",
    "print(\"reshaped z:\",z)\n",
    "\n",
    "z = np.arange(10)        #returns evenly spaced values within a given interval. step size is specified.\n",
    "print(\"arange\",z)\n",
    "\n",
    "z = np.arange(10,20,step=2)        #returns evenly spaced values within a given interval. step size is specified.\n",
    "print(\"arange with step\",z)\n",
    "\n",
    "#linspace: returns evenly spaced values within a given interval. num no. of elements are returned.\n",
    "z = np.linspace(10,19,num=10)           #last element is included\n",
    "print(\"linspace is equal space by default\",z)"
   ]
  },
  {
   "cell_type": "code",
   "execution_count": 134,
   "id": "rolled-hollywood",
   "metadata": {},
   "outputs": [
    {
     "name": "stdout",
     "output_type": "stream",
     "text": [
      "empty [[3.+0.j 3.+0.j 3.+0.j 3.+0.j]\n",
      " [3.+0.j 3.+0.j 3.+0.j 3.+0.j]\n",
      " [3.+0.j 3.+0.j 3.+0.j 3.+0.j]\n",
      " [3.+0.j 3.+0.j 3.+0.j 3.+0.j]\n",
      " [3.+0.j 3.+0.j 3.+0.j 3.+0.j]]\n"
     ]
    }
   ],
   "source": [
    "z = np.full([5,4],3,dtype=complex)\n",
    "print(\"empty\",z)"
   ]
  },
  {
   "cell_type": "markdown",
   "id": "annual-retreat",
   "metadata": {},
   "source": [
    "#### Iterations:"
   ]
  },
  {
   "cell_type": "code",
   "execution_count": 146,
   "id": "intermediate-duration",
   "metadata": {},
   "outputs": [
    {
     "name": "stdout",
     "output_type": "stream",
     "text": [
      "[[2 2]\n",
      " [2 2]\n",
      " [2 2]]\n",
      "[2 2]\n",
      "[2 2]\n",
      "[2 2]\n",
      "b is [6 6 6]\n",
      "6\n",
      "6\n",
      "6\n"
     ]
    }
   ],
   "source": [
    "a = np.full((3,2),2)\n",
    "print(a)\n",
    "for i in a:\n",
    "    print(i)\n",
    "    \n",
    "b = np.full(3,6)\n",
    "print(\"b is\",b)\n",
    "\n",
    "for i in b:\n",
    "    print(i)"
   ]
  },
  {
   "cell_type": "markdown",
   "id": "portuguese-theater",
   "metadata": {},
   "source": [
    "#### Flatten array: \n",
    "We can use flatten method to get a copy of array collapsed into one dimension. It accepts order argument. "
   ]
  },
  {
   "cell_type": "code",
   "execution_count": 151,
   "id": "sonic-integrity",
   "metadata": {},
   "outputs": [
    {
     "name": "stdout",
     "output_type": "stream",
     "text": [
      "array is [[1 2]\n",
      " [3 4]]\n",
      "a is: [1 2 3 4]\n"
     ]
    }
   ],
   "source": [
    "array = np.array([[1, 2], [3, 4]])\n",
    "print(\"array is\",array)\n",
    "a = array.flatten()\n",
    "print(\"a is:\",a)"
   ]
  },
  {
   "cell_type": "code",
   "execution_count": 161,
   "id": "descending-product",
   "metadata": {},
   "outputs": [
    {
     "name": "stdout",
     "output_type": "stream",
     "text": [
      "\n",
      " a[0, 3:5]  =  [3 4]\n",
      "\n",
      " a[2:;2, ::2]  =  [[12 14 16]\n",
      " [24 26 28]]\n"
     ]
    }
   ],
   "source": [
    "a = np.array([[0, 1, 2, 3, 4, 5],\n",
    "              [6, 7, 8, 9, 10, 11],\n",
    "              [12, 13, 14, 15, 16, 17],\n",
    "              [18, 19, 20, 21, 22, 23],\n",
    "              [24, 25, 26, 27, 28, 29],\n",
    "              [30, 31, 32, 33, 34, 35]])\n",
    "             \n",
    "print(\"\\n a[0, 3:5]  = \",a[0, 3:5])    #prints only 0th row\n",
    "             \n",
    "print(\"\\n a[2:;2, ::2]  = \",a[2::2, ::2]) "
   ]
  },
  {
   "cell_type": "markdown",
   "id": "fresh-valentine",
   "metadata": {},
   "source": [
    "#### Advance Integer Indexing"
   ]
  },
  {
   "cell_type": "markdown",
   "id": "sharing-evaluation",
   "metadata": {},
   "source": [
    "Purely integer indexing : When integers are used for indexing. Each element of first dimension is paired with the element of the second dimension. So the index of the elements in this case are (0,0),(1,0),(2,1) and the corresponding elements are selected."
   ]
  },
  {
   "cell_type": "code",
   "execution_count": 163,
   "id": "nearby-ecology",
   "metadata": {},
   "outputs": [
    {
     "name": "stdout",
     "output_type": "stream",
     "text": [
      "[1 3 6]\n"
     ]
    }
   ],
   "source": [
    "# Python program showing advanced indexing\n",
    "import numpy as np\n",
    " \n",
    "a = np.array([[1 ,2 ],[3 ,4 ],[5 ,6 ]])                        \n",
    "print(a[[0 ,1 ,2 ],[0 ,0 ,1]])       #print element at (0,1),(1,0),(2,1)"
   ]
  },
  {
   "cell_type": "code",
   "execution_count": null,
   "id": "basic-banana",
   "metadata": {},
   "outputs": [],
   "source": []
  },
  {
   "cell_type": "code",
   "execution_count": 1,
   "id": "supported-steam",
   "metadata": {},
   "outputs": [
    {
     "data": {
      "text/plain": [
       "array([0, 1, 2, 3, 4, 5])"
      ]
     },
     "execution_count": 1,
     "metadata": {},
     "output_type": "execute_result"
    }
   ],
   "source": [
    "#Code harry video Argsort, Argmin, Argmax and Others:\n",
    "\n",
    "import numpy as np\n",
    "\n",
    "#Way to make an array\n",
    "#Using ARANGE : works like range\n",
    "\n",
    "a = np.arange(6)\n",
    "a"
   ]
  },
  {
   "cell_type": "code",
   "execution_count": 7,
   "id": "present-palmer",
   "metadata": {},
   "outputs": [
    {
     "data": {
      "text/plain": [
       "(18,)"
      ]
     },
     "execution_count": 7,
     "metadata": {},
     "output_type": "execute_result"
    }
   ],
   "source": [
    "b = np.array([1,45,67,32,46,78,98,46,32,11,12,33,53,4,63,2,5,21])\n",
    "b.shape"
   ]
  },
  {
   "cell_type": "code",
   "execution_count": 5,
   "id": "silent-angle",
   "metadata": {},
   "outputs": [
    {
     "data": {
      "text/plain": [
       "array([[ 1, 45, 67, 32, 46, 78],\n",
       "       [98, 46, 32, 11, 12, 33],\n",
       "       [53,  4, 63,  2,  5, 21]])"
      ]
     },
     "execution_count": 5,
     "metadata": {},
     "output_type": "execute_result"
    }
   ],
   "source": [
    "#Using Reshape:\n",
    "# b.reshape(3,6)"
   ]
  },
  {
   "cell_type": "code",
   "execution_count": 6,
   "id": "round-prompt",
   "metadata": {},
   "outputs": [
    {
     "data": {
      "text/plain": [
       "array([[ 1, 45, 67],\n",
       "       [32, 46, 78],\n",
       "       [98, 46, 32],\n",
       "       [11, 12, 33],\n",
       "       [53,  4, 63],\n",
       "       [ 2,  5, 21]])"
      ]
     },
     "execution_count": 6,
     "metadata": {},
     "output_type": "execute_result"
    }
   ],
   "source": [
    "# b.reshape(6,3)"
   ]
  },
  {
   "cell_type": "raw",
   "id": "billion-grant",
   "metadata": {},
   "source": [
    "#ARGSORT"
   ]
  },
  {
   "cell_type": "code",
   "execution_count": 10,
   "id": "prerequisite-selling",
   "metadata": {},
   "outputs": [
    {
     "data": {
      "text/plain": [
       "array([ 0, 15, 13, 16,  9, 10, 17,  3,  8, 11,  1,  7,  4, 12, 14,  2,  5,\n",
       "        6], dtype=int64)"
      ]
     },
     "execution_count": 10,
     "metadata": {},
     "output_type": "execute_result"
    }
   ],
   "source": [
    "np.argsort(b)"
   ]
  },
  {
   "cell_type": "markdown",
   "id": "sticky-elements",
   "metadata": {},
   "source": [
    "<!-- Output of Argsort is that indices that would sort this array. Example: b[0] was 1(lowest) hence given 0 indices -->"
   ]
  },
  {
   "cell_type": "code",
   "execution_count": 13,
   "id": "imposed-christmas",
   "metadata": {},
   "outputs": [],
   "source": [
    "# Output of Argsort is that indices that would sort out this array.\n",
    "#Example: in this case b[0]=1 is the lowest and thus given indices 0"
   ]
  },
  {
   "cell_type": "markdown",
   "id": "loose-drove",
   "metadata": {},
   "source": [
    "#### numpy.nditer : Iterating over array"
   ]
  },
  {
   "cell_type": "markdown",
   "id": "novel-workshop",
   "metadata": {},
   "source": [
    "NumPy package contains an iterator object numpy.nditer. \n",
    "\n",
    "It is an efficient multidimensional iterator object using which it is possible to iterate over an array. Each element of an array is visited using Python’s standard Iterator interface."
   ]
  },
  {
   "cell_type": "code",
   "execution_count": 170,
   "id": "centered-rachel",
   "metadata": {},
   "outputs": [
    {
     "name": "stdout",
     "output_type": "stream",
     "text": [
      "a is: [[ 0  1  2]\n",
      " [ 3  4  5]\n",
      " [ 6  7  8]\n",
      " [ 9 10 11]]\n",
      "0\n",
      "1\n",
      "2\n",
      "3\n",
      "4\n",
      "5\n",
      "6\n",
      "7\n",
      "8\n",
      "9\n",
      "10\n",
      "11\n"
     ]
    }
   ],
   "source": [
    "a = np.arange(12).reshape(4,3)\n",
    "print(\"a is:\",a)\n",
    "\n",
    "for i in np.nditer(a):\n",
    "    print(i)"
   ]
  },
  {
   "cell_type": "markdown",
   "id": "rental-summary",
   "metadata": {},
   "source": [
    "#### Binary Operations : Bitwise Operators : BITWISE OR,AND,XOR etc\n",
    "\n",
    "Binary operators acts on bits and performs bit by bit operation. Binary operation is simply a rule for combining two values to create a new value.\n",
    "\n",
    "In Python, bitwise operators are used to perform bitwise calculations on integers. The integers are first converted into binary and then operations are performed on bit by bit, hence the name bitwise operators."
   ]
  },
  {
   "cell_type": "markdown",
   "id": "atmospheric-contract",
   "metadata": {},
   "source": [
    "#### numpy.bitwise_and() :"
   ]
  },
  {
   "cell_type": "code",
   "execution_count": 174,
   "id": "aquatic-madison",
   "metadata": {},
   "outputs": [
    {
     "name": "stdout",
     "output_type": "stream",
     "text": [
      "Input array1 :  [2, 8, 125]\n",
      "Input array2 :  [3, 3, 115]\n",
      "Output array after bitwise_and:  [  2   0 113]\n"
     ]
    }
   ],
   "source": [
    " \n",
    "in_arr1 = [2, 8, 125]\n",
    "in_arr2 = [3, 3, 115]\n",
    "  \n",
    "print (\"Input array1 : \", in_arr1) \n",
    "print (\"Input array2 : \", in_arr2)\n",
    "   \n",
    "out_arr = np.bitwise_and(in_arr1, in_arr2) \n",
    "print (\"Output array after bitwise_and: \", out_arr) "
   ]
  },
  {
   "cell_type": "markdown",
   "id": "printable-watershed",
   "metadata": {},
   "source": [
    "#### numpy.bitwise_or() "
   ]
  },
  {
   "cell_type": "code",
   "execution_count": 175,
   "id": "needed-photographer",
   "metadata": {},
   "outputs": [
    {
     "name": "stdout",
     "output_type": "stream",
     "text": [
      "Input array1 :  [2, 8, 125]\n",
      "Input array2 :  [3, 3, 115]\n",
      "Bitwise OR output:  [  3  11 127]\n"
     ]
    }
   ],
   "source": [
    "in_arr1 = [2, 8, 125]\n",
    "in_arr2 = [3, 3, 115]\n",
    "  \n",
    "print (\"Input array1 : \", in_arr1) \n",
    "print (\"Input array2 : \", in_arr2)\n",
    "   \n",
    "out = np.bitwise_or(in_arr1,in_arr2)\n",
    "print(\"Bitwise OR output: \", out)"
   ]
  },
  {
   "cell_type": "markdown",
   "id": "emerging-filing",
   "metadata": {},
   "source": [
    "#### numpy.bitwise_xor() : "
   ]
  },
  {
   "cell_type": "code",
   "execution_count": 176,
   "id": "characteristic-nylon",
   "metadata": {},
   "outputs": [
    {
     "name": "stdout",
     "output_type": "stream",
     "text": [
      "Input array1 :  [2, 8, 125]\n",
      "Input array2 :  [3, 3, 115]\n",
      "Bitwise XOR output:  [ 1 11 14]\n"
     ]
    }
   ],
   "source": [
    "in_arr1 = [2, 8, 125]\n",
    "in_arr2 = [3, 3, 115]\n",
    "  \n",
    "print (\"Input array1 : \", in_arr1) \n",
    "print (\"Input array2 : \", in_arr2)\n",
    "   \n",
    "out = np.bitwise_xor(in_arr1,in_arr2)\n",
    "print(\"Bitwise XOR output: \", out)"
   ]
  },
  {
   "cell_type": "markdown",
   "id": "satisfactory-european",
   "metadata": {},
   "source": [
    "#### numpy.invert() : bitwise NOT\n",
    "\n",
    "This function is used to Compute the bit-wise Inversion of an array element-wise. It computes the bit-wise NOT of the underlying binary representation of the integers in the input arrays."
   ]
  },
  {
   "cell_type": "code",
   "execution_count": 179,
   "id": "lesbian-carolina",
   "metadata": {},
   "outputs": [
    {
     "name": "stdout",
     "output_type": "stream",
     "text": [
      "Input array1 :  [2, 8, 125]\n",
      "Bitwise NOT output:  [  -3   -9 -126]\n"
     ]
    }
   ],
   "source": [
    "in_arr1 = [2, 8, 125]\n",
    "\n",
    "print (\"Input array1 : \", in_arr1) \n",
    "\n",
    "out = np.invert(in_arr1)\n",
    "print(\"Bitwise NOT output: \", out)"
   ]
  },
  {
   "cell_type": "markdown",
   "id": "comprehensive-offense",
   "metadata": {},
   "source": [
    "#### numpy.binary_repr: Finding Binary Represenatation of a number\n",
    "\n",
    "(number, width=None)\n",
    "\n",
    "This function is used to represent binary form of the input number as a string.For negative numbers, if width is not given, a minus sign is added to the front. If width is given, the two’s complement of the number is returned, with respect to that width."
   ]
  },
  {
   "cell_type": "code",
   "execution_count": 182,
   "id": "impaired-yesterday",
   "metadata": {},
   "outputs": [
    {
     "name": "stdout",
     "output_type": "stream",
     "text": [
      "Input  number :  -10\n",
      "binary representation of -10 without width :  -1010\n",
      "binary representation of -10 with width :  110110\n"
     ]
    }
   ],
   "source": [
    "in_num = -10\n",
    "print (\"Input  number : \", in_num)\n",
    "\n",
    "out_num1 = np.binary_repr(in_num) \n",
    "print (\"binary representation of -10 without width : \", out_num1) \n",
    "\n",
    "out_num2 = np.binary_repr(in_num,width=6) \n",
    "print (\"binary representation of -10 with width : \", out_num2) "
   ]
  },
  {
   "cell_type": "code",
   "execution_count": 184,
   "id": "boring-patent",
   "metadata": {},
   "outputs": [
    {
     "name": "stdout",
     "output_type": "stream",
     "text": [
      "Input  number :  -5\n",
      "binary representation of -5 without width :  -101\n",
      "binary representation of -5 with width :  11011\n"
     ]
    }
   ],
   "source": [
    "in_num = -5\n",
    "print (\"Input  number : \", in_num)\n",
    "\n",
    "out_num1 = np.binary_repr(in_num) \n",
    "print (\"binary representation of -5 without width : \", out_num1) \n",
    "\n",
    "out_num2 = np.binary_repr(in_num,width=5) \n",
    "print (\"binary representation of -5 with width : \", out_num2)"
   ]
  },
  {
   "cell_type": "markdown",
   "id": "planned-foundation",
   "metadata": {},
   "source": [
    "#### Numpy | Linear Algebra : np.linalg."
   ]
  },
  {
   "cell_type": "markdown",
   "id": "russian-pontiac",
   "metadata": {},
   "source": [
    "The Linear Algebra module of NumPy offers various methods to apply linear algebra on any numpy array.\n",
    "One can find:\n",
    "\n",
    "- rank, determinant, trace, etc. of an array.\n",
    "- eigen values of matrices\n",
    "- matrix and vector products (dot, inner, outer,etc. product), matrix exponentiation\n",
    "- solve linear or tensor equations and much more!"
   ]
  },
  {
   "cell_type": "code",
   "execution_count": 186,
   "id": "rapid-solomon",
   "metadata": {},
   "outputs": [
    {
     "name": "stdout",
     "output_type": "stream",
     "text": [
      "matrix A:  [[ 6  1  1]\n",
      " [ 4 -2  5]\n",
      " [ 2  8  7]]\n",
      "Rank of A: 3\n",
      "\n",
      "Trace of A: 11\n",
      "\n",
      "Determinant of A: -306.0\n",
      "\n",
      "Inverse of A:\n",
      " [[ 0.17647059 -0.00326797 -0.02287582]\n",
      " [ 0.05882353 -0.13071895  0.08496732]\n",
      " [-0.11764706  0.1503268   0.05228758]]\n",
      "\n",
      "Matrix A raised to power 3:\n",
      " [[336 162 228]\n",
      " [406 162 469]\n",
      " [698 702 905]]\n"
     ]
    }
   ],
   "source": [
    "A = np.array([[6, 1, 1],\n",
    "              [4, -2, 5],\n",
    "              [2, 8, 7]])\n",
    "\n",
    "print(\"matrix A: \",A)\n",
    " \n",
    "# Rank of a matrix\n",
    "print(\"Rank of A:\", np.linalg.matrix_rank(A))           #corresponds to the maximal number of linearly independent columns of A. \n",
    " \n",
    "# Trace of matrix A\n",
    "print(\"\\nTrace of A:\", np.trace(A))  \n",
    "\n",
    "# the trace of a square matrix A, denoted tr(A), \n",
    "#is defined to be the sum of elements on the main diagonal (from the upper left to the lower right) of A. \n",
    " \n",
    "# Determinant of a matrix\n",
    "print(\"\\nDeterminant of A:\", np.linalg.det(A))\n",
    " \n",
    "# Inverse of matrix A\n",
    "print(\"\\nInverse of A:\\n\", np.linalg.inv(A))\n",
    " \n",
    "print(\"\\nMatrix A raised to power 3:\\n\",\n",
    "           np.linalg.matrix_power(A, 3))\n"
   ]
  },
  {
   "cell_type": "markdown",
   "id": "random-juice",
   "metadata": {},
   "source": [
    "##### numpy.linalg.eigh(a) :  h in eigh for  hermitian/ Conjugate matrix\n",
    "\n",
    "This function is used to return the eigenvalues and eigenvectors of a complex conjugate symmetric or a real symmetric matrix.\n",
    "\n",
    "Returns two objects:\n",
    "- a 1-D array containing the eigenvalues of a, \n",
    "- and a 2-D square array of the corresponding eigenvectors (in columns)."
   ]
  },
  {
   "cell_type": "code",
   "execution_count": 190,
   "id": "pleased-diagnosis",
   "metadata": {},
   "outputs": [
    {
     "name": "stdout",
     "output_type": "stream",
     "text": [
      "Array is : [[ 1.+0.j -0.-2.j]\n",
      " [ 0.+2.j  5.+0.j]]\n",
      "\n",
      "Eigen value is : [0.17157288 5.82842712]\n",
      "\n",
      "Eigen value is : [[-0.92387953+0.j         -0.38268343+0.j        ]\n",
      " [ 0.        +0.38268343j  0.        -0.92387953j]]\n"
     ]
    }
   ],
   "source": [
    "a = np.array([[1, -2j], [2j, 5]])\n",
    " \n",
    "print(\"Array is :\",a)\n",
    " \n",
    "from numpy import linalg\n",
    "\n",
    "# calculating an eigen value\n",
    "# using eigh() function\n",
    "c, d = np.linalg.eigh(a)\n",
    " \n",
    "print(\"\\nEigen value is :\", c)\n",
    "print(\"\\nEigen value is :\", d)"
   ]
  },
  {
   "cell_type": "markdown",
   "id": "emotional-uncertainty",
   "metadata": {},
   "source": [
    "#### numpy.linalg.eig(a) : This function is used to compute the eigenvalues and right eigenvectors of a square array."
   ]
  },
  {
   "cell_type": "code",
   "execution_count": 195,
   "id": "active-exploration",
   "metadata": {},
   "outputs": [
    {
     "name": "stdout",
     "output_type": "stream",
     "text": [
      "Array is : [[1 0 0]\n",
      " [0 2 0]\n",
      " [0 0 3]]\n",
      "\n",
      "Eigen value is : [1. 2. 3.]\n",
      "\n",
      "Eigen value is : [[1. 0. 0.]\n",
      " [0. 1. 0.]\n",
      " [0. 0. 1.]]\n"
     ]
    }
   ],
   "source": [
    "# Python program explaining eig() function\n",
    " \n",
    "from numpy import linalg\n",
    " \n",
    "# Creating an array using diag function\n",
    "a = np.diag((1, 2, 3))\n",
    " \n",
    "print(\"Array is :\",a)\n",
    " \n",
    "# calculating an eigen value using eig() function\n",
    "c,d = np.linalg.eig(a)\n",
    " \n",
    "print(\"\\nEigen value is :\",c)\n",
    "print(\"\\nEigen value is :\",d)"
   ]
  },
  {
   "cell_type": "markdown",
   "id": "immune-model",
   "metadata": {},
   "source": [
    "#### OTHERS:"
   ]
  },
  {
   "cell_type": "code",
   "execution_count": 207,
   "id": "authorized-spank",
   "metadata": {},
   "outputs": [
    {
     "name": "stdout",
     "output_type": "stream",
     "text": [
      "[[ 6  1  1]\n",
      " [ 4 -2  5]\n",
      " [ 2  8  7]]\n",
      "[[6, 1, 1], [4, -2, 5], [2, 8, 7]]\n",
      "[[ 2 -2  1]\n",
      " [ 4  1  5]\n",
      " [ 6  8  7]]\n",
      "[[-2  1  2]\n",
      " [ 1  4  5]\n",
      " [ 6  7  8]]\n"
     ]
    }
   ],
   "source": [
    "a = np.array([[6, 1, 1],\n",
    "              [4, -2, 5],\n",
    "              [2, 8, 7]])\n",
    "print(a)\n",
    "\n",
    "a = a.tolist()\n",
    "print(a)\n",
    "\n",
    "a = np.sort(a,axis=0)        #axos = 1 : across\n",
    "                            #axis = 0 : down\n",
    "print(a)\n",
    "\n",
    "a = np.sort(a,axis=1)\n",
    "print(a)"
   ]
  },
  {
   "cell_type": "markdown",
   "id": "soviet-appearance",
   "metadata": {},
   "source": [
    "#### Random Numbers in NumPy"
   ]
  },
  {
   "cell_type": "code",
   "execution_count": 219,
   "id": "democratic-charm",
   "metadata": {},
   "outputs": [
    {
     "name": "stdout",
     "output_type": "stream",
     "text": [
      "========================\n",
      "Random Number Generation\n",
      "========================\n",
      "\n",
      "Use ``default_rng()`` to create a `Generator` and call its methods.\n",
      "\n",
      "=============== =========================================================\n",
      "Generator\n",
      "--------------- ---------------------------------------------------------\n",
      "Generator       Class implementing all of the random number distributions\n",
      "default_rng     Default constructor for ``Generator``\n",
      "=============== =========================================================\n",
      "\n",
      "============================================= ===\n",
      "BitGenerator Streams that work with Generator\n",
      "--------------------------------------------- ---\n",
      "MT19937\n",
      "PCG64\n",
      "Philox\n",
      "SFC64\n",
      "============================================= ===\n",
      "\n",
      "============================================= ===\n",
      "Getting entropy to initialize a BitGenerator\n",
      "--------------------------------------------- ---\n",
      "SeedSequence\n",
      "============================================= ===\n",
      "\n",
      "\n",
      "Legacy\n",
      "------\n",
      "\n",
      "For backwards compatibility with previous versions of numpy before 1.17, the\n",
      "various aliases to the global `RandomState` methods are left alone and do not\n",
      "use the new `Generator` API.\n",
      "\n",
      "==================== =========================================================\n",
      "Utility functions\n",
      "-------------------- ---------------------------------------------------------\n",
      "random               Uniformly distributed floats over ``[0, 1)``\n",
      "bytes                Uniformly distributed random bytes.\n",
      "permutation          Randomly permute a sequence / generate a random sequence.\n",
      "shuffle              Randomly permute a sequence in place.\n",
      "choice               Random sample from 1-D array.\n",
      "==================== =========================================================\n",
      "\n",
      "==================== =========================================================\n",
      "Compatibility\n",
      "functions - removed\n",
      "in the new API\n",
      "-------------------- ---------------------------------------------------------\n",
      "rand                 Uniformly distributed values.\n",
      "randn                Normally distributed values.\n",
      "ranf                 Uniformly distributed floating point numbers.\n",
      "random_integers      Uniformly distributed integers in a given range.\n",
      "                     (deprecated, use ``integers(..., closed=True)`` instead)\n",
      "random_sample        Alias for `random_sample`\n",
      "randint              Uniformly distributed integers in a given range\n",
      "seed                 Seed the legacy random number generator.\n",
      "==================== =========================================================\n",
      "\n",
      "==================== =========================================================\n",
      "Univariate\n",
      "distributions\n",
      "-------------------- ---------------------------------------------------------\n",
      "beta                 Beta distribution over ``[0, 1]``.\n",
      "binomial             Binomial distribution.\n",
      "chisquare            :math:`\\chi^2` distribution.\n",
      "exponential          Exponential distribution.\n",
      "f                    F (Fisher-Snedecor) distribution.\n",
      "gamma                Gamma distribution.\n",
      "geometric            Geometric distribution.\n",
      "gumbel               Gumbel distribution.\n",
      "hypergeometric       Hypergeometric distribution.\n",
      "laplace              Laplace distribution.\n",
      "logistic             Logistic distribution.\n",
      "lognormal            Log-normal distribution.\n",
      "logseries            Logarithmic series distribution.\n",
      "negative_binomial    Negative binomial distribution.\n",
      "noncentral_chisquare Non-central chi-square distribution.\n",
      "noncentral_f         Non-central F distribution.\n",
      "normal               Normal / Gaussian distribution.\n",
      "pareto               Pareto distribution.\n",
      "poisson              Poisson distribution.\n",
      "power                Power distribution.\n",
      "rayleigh             Rayleigh distribution.\n",
      "triangular           Triangular distribution.\n",
      "uniform              Uniform distribution.\n",
      "vonmises             Von Mises circular distribution.\n",
      "wald                 Wald (inverse Gaussian) distribution.\n",
      "weibull              Weibull distribution.\n",
      "zipf                 Zipf's distribution over ranked data.\n",
      "==================== =========================================================\n",
      "\n",
      "==================== ==========================================================\n",
      "Multivariate\n",
      "distributions\n",
      "-------------------- ----------------------------------------------------------\n",
      "dirichlet            Multivariate generalization of Beta distribution.\n",
      "multinomial          Multivariate generalization of the binomial distribution.\n",
      "multivariate_normal  Multivariate generalization of the normal distribution.\n",
      "==================== ==========================================================\n",
      "\n",
      "==================== =========================================================\n",
      "Standard\n",
      "distributions\n",
      "-------------------- ---------------------------------------------------------\n",
      "standard_cauchy      Standard Cauchy-Lorentz distribution.\n",
      "standard_exponential Standard exponential distribution.\n",
      "standard_gamma       Standard Gamma distribution.\n",
      "standard_normal      Standard normal distribution.\n",
      "standard_t           Standard Student's t-distribution.\n",
      "==================== =========================================================\n",
      "\n",
      "==================== =========================================================\n",
      "Internal functions\n",
      "-------------------- ---------------------------------------------------------\n",
      "get_state            Get tuple representing internal state of generator.\n",
      "set_state            Set state of generator.\n",
      "==================== =========================================================\n"
     ]
    }
   ],
   "source": [
    "from numpy import random\n",
    "a = np.random\n",
    "np.info(a)"
   ]
  },
  {
   "cell_type": "markdown",
   "id": "sharing-rebel",
   "metadata": {},
   "source": [
    "#### random integer from 0 to 100"
   ]
  },
  {
   "cell_type": "code",
   "execution_count": 220,
   "id": "leading-addiction",
   "metadata": {},
   "outputs": [
    {
     "data": {
      "text/plain": [
       "67"
      ]
     },
     "execution_count": 220,
     "metadata": {},
     "output_type": "execute_result"
    }
   ],
   "source": [
    "x = np.random.randint(100)\n",
    "x"
   ]
  },
  {
   "cell_type": "code",
   "execution_count": 221,
   "id": "suffering-stuff",
   "metadata": {},
   "outputs": [
    {
     "data": {
      "text/plain": [
       "93"
      ]
     },
     "execution_count": 221,
     "metadata": {},
     "output_type": "execute_result"
    }
   ],
   "source": [
    "x = np.random.randint(90,100)\n",
    "x"
   ]
  },
  {
   "cell_type": "markdown",
   "id": "spare-smith",
   "metadata": {},
   "source": [
    "#### Random Float"
   ]
  },
  {
   "cell_type": "code",
   "execution_count": 223,
   "id": "balanced-gibson",
   "metadata": {},
   "outputs": [
    {
     "data": {
      "text/plain": [
       "0.21195631323947028"
      ]
     },
     "execution_count": 223,
     "metadata": {},
     "output_type": "execute_result"
    }
   ],
   "source": [
    "x = np.random.rand()\n",
    "x"
   ]
  },
  {
   "cell_type": "markdown",
   "id": "medical-receiver",
   "metadata": {},
   "source": [
    "#### Random Array"
   ]
  },
  {
   "cell_type": "code",
   "execution_count": 228,
   "id": "collaborative-carnival",
   "metadata": {},
   "outputs": [
    {
     "name": "stdout",
     "output_type": "stream",
     "text": [
      "[ 0 34 53 70 80]\n",
      "\n",
      " [[57  4 33 74 95]\n",
      " [13 91 98 44 34]\n",
      " [16 37 88 81 72]]\n"
     ]
    }
   ],
   "source": [
    "x = np.random.randint(100,size=5)    #1-d Array\n",
    "print(x)\n",
    "\n",
    "x = np.random.randint(100,size=(3,5))    #2-d Array\n",
    "print(\"\\n\",x)"
   ]
  },
  {
   "cell_type": "markdown",
   "id": "sized-installation",
   "metadata": {},
   "source": [
    "#### Random Array using float"
   ]
  },
  {
   "cell_type": "code",
   "execution_count": 233,
   "id": "social-miller",
   "metadata": {},
   "outputs": [
    {
     "name": "stdout",
     "output_type": "stream",
     "text": [
      "\n",
      " [[0.80374286 0.22639859 0.55214935 0.14681899 0.41942073]\n",
      " [0.09263491 0.42682415 0.44640579 0.38738242 0.65775025]\n",
      " [0.55305974 0.6093657  0.78962814 0.16991235 0.28015652]]\n",
      "\n",
      " [0.05411611 0.38389297 0.08763905 0.13241936 0.54147698]\n"
     ]
    }
   ],
   "source": [
    "#Doesnt provide size parameter\n",
    "\n",
    "x = np.random.rand(3,5)    #2-d Array\n",
    "print(\"\\n\",x)\n",
    "\n",
    "x = np.random.rand(5)    #1-d Array\n",
    "print(\"\\n\",x)"
   ]
  },
  {
   "cell_type": "markdown",
   "id": "sound-objective",
   "metadata": {},
   "source": [
    "#### Generate Random Number From Array: Using Choice"
   ]
  },
  {
   "cell_type": "markdown",
   "id": "elect-scoop",
   "metadata": {},
   "source": [
    "The choice() method takes an array as a parameter and randomly returns one of the values."
   ]
  },
  {
   "cell_type": "code",
   "execution_count": 237,
   "id": "respiratory-uniform",
   "metadata": {},
   "outputs": [
    {
     "name": "stdout",
     "output_type": "stream",
     "text": [
      "5\n",
      "\n",
      " [[89  5 89]\n",
      " [67  5 12]\n",
      " [ 5 89  9]\n",
      " [ 5 12  3]\n",
      " [67  5  5]]\n"
     ]
    }
   ],
   "source": [
    "x = random.choice([3, 5, 7, 9])\n",
    "print(x)\n",
    "\n",
    "#Generate a 2-D array that consists of the values in the array parameter (3, 5, 7, and 9):\n",
    "x = random.choice([3,5,12,67,89,9,80,43],size=(5,3))\n"
   ]
  },
  {
   "cell_type": "markdown",
   "id": "leading-leader",
   "metadata": {},
   "source": [
    "#### Copying"
   ]
  },
  {
   "cell_type": "code",
   "execution_count": 238,
   "id": "aboriginal-prophet",
   "metadata": {},
   "outputs": [
    {
     "name": "stdout",
     "output_type": "stream",
     "text": [
      "copy of x [[89  5 89]\n",
      " [67  5 12]\n",
      " [ 5 89  9]\n",
      " [ 5 12  3]\n",
      " [67  5  5]]\n"
     ]
    }
   ],
   "source": [
    "a = np.copy(x)\n",
    "print(\"copy of x\",a)"
   ]
  },
  {
   "cell_type": "code",
   "execution_count": 243,
   "id": "former-gamma",
   "metadata": {},
   "outputs": [
    {
     "data": {
      "text/plain": [
       "dtype('int32')"
      ]
     },
     "execution_count": 243,
     "metadata": {},
     "output_type": "execute_result"
    }
   ],
   "source": [
    "a.dtype"
   ]
  },
  {
   "cell_type": "markdown",
   "id": "continuous-disorder",
   "metadata": {},
   "source": [
    "#### Adding/removing Elements"
   ]
  },
  {
   "cell_type": "code",
   "execution_count": 286,
   "id": "million-manufacturer",
   "metadata": {},
   "outputs": [
    {
     "name": "stdout",
     "output_type": "stream",
     "text": [
      "[[ 3  3  9]\n",
      " [67  5 12]\n",
      " [12  3 43]\n",
      " [ 5  3 89]\n",
      " [ 9 43 12]]\n",
      "[[ 1  2  3]\n",
      " [12  4  3]\n",
      " [ 4  5  6]]\n",
      "[[1.  2.3 3. ]\n",
      " [4.  5.  6. ]]\n",
      "[[False False False]\n",
      " [ True  True  True]]\n",
      "[[1. 2. 3.]\n",
      " [4. 5. 6.]]\n"
     ]
    }
   ],
   "source": [
    "x = random.choice([3,5,12,67,89,9,80,43],size=(5,3))\n",
    "\n",
    "y =random.choice([3,5,12,67,89,9,80,43],size=(5,3))\n",
    "\n",
    "np.append(x,y,axis=0)\n",
    "print(x)\n",
    "\n",
    "x = np.array([[1,2,3],[4,5,6]])\n",
    "x = np.insert(x,1,[12,4,3],axis= 0)   #insert after position 1\n",
    "print(x)\n",
    "\n",
    "x = np.array([[1,2.3,3],[12,4,3],[4,5,6]])\n",
    "x = np.delete(x,1,axis= 0)   #insert after position 1\n",
    "print(x)\n",
    "\n",
    "print((x>3) & (x<10))\n",
    "\n",
    "print(np.floor(x))"
   ]
  },
  {
   "cell_type": "markdown",
   "id": "collectible-discussion",
   "metadata": {},
   "source": [
    "#### Combining/splitting"
   ]
  },
  {
   "cell_type": "code",
   "execution_count": 247,
   "id": "pursuant-muslim",
   "metadata": {},
   "outputs": [
    {
     "name": "stdout",
     "output_type": "stream",
     "text": [
      "[[17 34 22]\n",
      " [98 81  3]\n",
      " [51 87 28]\n",
      " [38 95 40]\n",
      " [90  3 16]\n",
      " [40 42 66]\n",
      " [24 21 83]\n",
      " [68 88 93]\n",
      " [70 91 47]\n",
      " [66 83 92]]\n",
      "[[17 34 22 40 42 66]\n",
      " [98 81  3 24 21 83]\n",
      " [51 87 28 68 88 93]\n",
      " [38 95 40 70 91 47]\n",
      " [90  3 16 66 83 92]]\n"
     ]
    }
   ],
   "source": [
    "a = np.random.randint(0,100,size=(5,3))\n",
    "b = np.random.randint(20,100,size=(5,3))\n",
    "\n",
    "c = np.concatenate((a,b),axis=0)\n",
    "print(c)\n",
    "\n",
    "c = np.concatenate((a,b),axis=1)\n",
    "print(c)"
   ]
  },
  {
   "cell_type": "markdown",
   "id": "beginning-projector",
   "metadata": {},
   "source": [
    "##### Splitting array"
   ]
  },
  {
   "cell_type": "code",
   "execution_count": 257,
   "id": "embedded-aviation",
   "metadata": {},
   "outputs": [
    {
     "name": "stdout",
     "output_type": "stream",
     "text": [
      "[array([[68, 20, 56, 96],\n",
      "       [35, 66,  8, 72],\n",
      "       [89, 49, 89, 85],\n",
      "       [42, 90,  9, 52]]), array([[22, 33, 69, 51],\n",
      "       [95, 16, 29, 39],\n",
      "       [48, 38, 74, 10],\n",
      "       [94, 20, 77, 15]])]\n",
      "\n",
      " [array([[68, 20, 56, 96],\n",
      "       [35, 66,  8, 72]]), array([[89, 49, 89, 85],\n",
      "       [42, 90,  9, 52]]), array([[22, 33, 69, 51],\n",
      "       [95, 16, 29, 39]]), array([[48, 38, 74, 10],\n",
      "       [94, 20, 77, 15]])]\n",
      "[array([[68, 20],\n",
      "       [35, 66],\n",
      "       [89, 49],\n",
      "       [42, 90],\n",
      "       [22, 33],\n",
      "       [95, 16],\n",
      "       [48, 38],\n",
      "       [94, 20]]), array([[56, 96],\n",
      "       [ 8, 72],\n",
      "       [89, 85],\n",
      "       [ 9, 52],\n",
      "       [69, 51],\n",
      "       [29, 39],\n",
      "       [74, 10],\n",
      "       [77, 15]])]\n"
     ]
    }
   ],
   "source": [
    "a = np.random.randint(0,100,size=(8,4))\n",
    "\n",
    "c = np.split(a,2)       #split in 2 array\n",
    "print(c)\n",
    "\n",
    "c = np.split(a,4)       #split in 4 array: all array size must be equal while split\n",
    "print(\"\\n\",c)\n",
    "\n",
    "c = np.split(a,2,axis=1)       #split in 4 array: all array size must be equal while split\n",
    "print(c)"
   ]
  },
  {
   "cell_type": "markdown",
   "id": "based-poison",
   "metadata": {},
   "source": [
    "#### Statistics:"
   ]
  },
  {
   "cell_type": "code",
   "execution_count": 292,
   "id": "floating-current",
   "metadata": {},
   "outputs": [
    {
     "name": "stdout",
     "output_type": "stream",
     "text": [
      "[5.66666667 3.76666667 4.        ]\n",
      "[21.55555556  1.24222222  2.        ]\n",
      "[4.64279609 1.11455023 1.41421356]\n",
      "[[ 1.         -0.96877366  0.98532928]\n",
      " [-0.96877366  1.         -0.91224546]\n",
      " [ 0.98532928 -0.91224546  1.        ]]\n",
      "1.0\n",
      "12.0\n"
     ]
    }
   ],
   "source": [
    "x = np.array([[1,2.3,3],[12,4,3],[4,5,6]])\n",
    "\n",
    "print(np.mean(x,axis=0))\n",
    "\n",
    "print(np.var(x,axis=0))\n",
    "\n",
    "print(np.std(x,axis=0))\n",
    "\n",
    "print(np.corrcoef(x))\n",
    "\n",
    "print(np.min(x))\n",
    "\n",
    "print(np.max(x))"
   ]
  },
  {
   "cell_type": "code",
   "execution_count": null,
   "id": "gorgeous-criticism",
   "metadata": {},
   "outputs": [],
   "source": []
  }
 ],
 "metadata": {
  "kernelspec": {
   "display_name": "Python 3",
   "language": "python",
   "name": "python3"
  },
  "language_info": {
   "codemirror_mode": {
    "name": "ipython",
    "version": 3
   },
   "file_extension": ".py",
   "mimetype": "text/x-python",
   "name": "python",
   "nbconvert_exporter": "python",
   "pygments_lexer": "ipython3",
   "version": "3.9.1"
  }
 },
 "nbformat": 4,
 "nbformat_minor": 5
}
